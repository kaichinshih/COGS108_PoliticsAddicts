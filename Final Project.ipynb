{
 "cells": [
  {
   "cell_type": "markdown",
   "metadata": {},
   "source": [
    "# COGS 108 - Final Project "
   ]
  },
  {
   "cell_type": "markdown",
   "metadata": {},
   "source": [
    "# Overview"
   ]
  },
  {
   "cell_type": "markdown",
   "metadata": {},
   "source": [
    "In this project, we are going to examine the relationship between the trendiness on the Google search engine of several Democratic candidates who are preparing to run in the primary election for the US Presidential Election in 2020 and their fundraising results from the start of the announcements of each of their candidacies to roughly the end of March. For fundraising results of each candidate, we mainly focus on the following three factors: total contributions raised, number of unique donors, and total contribution amount for each United States Census Region and Division. By analyzing the trendiness of candidates on Google as well as fundraising, we endeavor to explore the relationship between the popularity of a candidate on Google and his or her success in fundraising during the same period of time (if a relationship exists at all).\n"
   ]
  },
  {
   "cell_type": "markdown",
   "metadata": {},
   "source": [
    "# Names\n",
    "\n",
    "- Kartik Bhatnagar\n",
    "- Kai-Chin Shih \n",
    "- Sahana Srinivasan\n",
    "- (Isaac) Fangzheng Xie \n",
    "- (Gin) Xiaojin Zheng "
   ]
  },
  {
   "cell_type": "markdown",
   "metadata": {},
   "source": [
    "# Group Members IDs\n",
    "\n",
    "- A14020665\n",
    "- A12879790\n",
    "- A13741839\n",
    "- A13768347\n",
    "- A15674894"
   ]
  },
  {
   "cell_type": "markdown",
   "metadata": {},
   "source": [
    "# Research Question"
   ]
  },
  {
   "cell_type": "markdown",
   "metadata": {},
   "source": [
    "Are candidates' trendiness on search engines, particularly Google, correlated with fundraising results？\n",
    "   -Is there a correlation between a candidate’s trendiness on Google on each day following the announcement of his or her candidacy and the total contribution amount on each day to the candidate?\n",
    "   -Is there a correlation between a candidate’s trendiness on Google on each day following the announcmet of his candidacy and the total number of unique donors a candidate receives on each day?\n",
    "   -Is there a correlation between a candidate's trendiness on Google and the total contribution amount in each U.S. Census Bureau Region and Division for each candidate?\n"
   ]
  },
  {
   "cell_type": "markdown",
   "metadata": {},
   "source": [
    "## Background and Prior Work"
   ]
  },
  {
   "cell_type": "markdown",
   "metadata": {},
   "source": [
    "The race to become the Democratic Party's frontrunner to take on Trump in 2020 has already begun. More then 25 Democrats have already declared their candidacy for POTUS and have begun campaigning and fundraising. In recent years, campaign funds available to candidates have increasingly determined the way elections pan out. More campaign contributions (and unique donors) indicates greater visibility, more rallies and more opportunties for outreach for candidates, and it can subsquently often be the difference between a win and a loss. In fact, according to the Huffington Post, the number of unique donors a candidate receives will determine who qualifies for the primary debates in 2020, with a requirement of 65,000 unique donors being placed on the qualification. Clearly, this matter is highly relevant.\n",
    "\n",
    "Social media and online visibility have also played an increasingly important role in a candidate's outreach and momentum. In recent elections, it has completely changed the way candidates interact with their audiences, attract volunteers, and (importantly) gain campaign contributions. Also, with more and more candidates rejecting Super Pac contributions and large donations by corporations, campaign donations by actual voters on a small scale are becoming pivotal to the effectiveness of a candidate's campaign. The volume and distributions of these donations can potentially provide interesting insights into a candidate's viability because it, in a sense, reflects the enthusiasm for the campaign.\n",
    "\n",
    "Some contend that the correlation between popularity in social media and political fundraising is virtually non-existent. In \"In the 2020 Race, What is the Value of Political Stardom?,\" Issie Lapowsky addresses the fact that Pete Buttigieg's widespread popularity on social media has not been reflected in the amount of money his campaign has secured. In this project, we attempt to more closely examine the relationship between online visibility and interest in a candidate, and the campaign contributions recieved by them. We hope to explore how a candidate's Google search trends relate to the amount of funds raised by them, the number of unique donors they secure, and the geoographical relationships between their online visibilty and donation rates.\n",
    "\n",
    "https://www.huffpost.com/entry/democratic-candidates-qualified-debates_n_5cd1c531e4b0e4d757394178\n",
    "https://www.wired.com/story/2020-race-democrats-social-media-stardom/\n"
   ]
  },
  {
   "cell_type": "markdown",
   "metadata": {},
   "source": [
    "# Hypothesis"
   ]
  },
  {
   "cell_type": "markdown",
   "metadata": {},
   "source": [
    "Our hypothesis is that the total contributions, total number of unique donors, and total contribution amount by each census region will increase as the candidates’ trendiness rises. In other words, we believe that the correlation between donorship and trendiness is positive. But, we are not claiming that there is causation, or that a candidate's trendiness on Google causes an increase in donations, or vice versa. However, we are asserting that there is an association between the two.\n",
    "\n",
    "1.) H0 (Null Hypothesis): There is no correlation between the total contribution amount and a candidate's trendiness. \n",
    "2.) H1 (Alternative Hypothesis): As a candidate's trendiness increases, the amount of campaign contributions he or she receives increases. \n",
    "3.) H0 (Null Hypothesis): There is no correlation between the total number of unique donors a candidate receives and the candidate's trendiness. \n",
    "4.) H1 (Alternative Hypothesis): As a candidate's trendiness increases, the amount of unique donors he or she has increases. \n",
    "5.) H0 (Null Hypothesis): There is no correlation between between a candidate's total contribution amount in a given region and his popularity defined by trendiness in the region. \n",
    "6.) H1 (Alternative Hypothesis): As a candidate's trendiness within a region increases, the total contribution amount in each region increases.\n",
    "\n",
    "The premise of our assumption is that the more people research a candidate, the more interest there is in a candidate, which could be reflected in increased contribution, as contribution is a prime mechanism for expressing interest.\n"
   ]
  },
  {
   "cell_type": "markdown",
   "metadata": {},
   "source": [
    "# Dataset(s)"
   ]
  },
  {
   "cell_type": "markdown",
   "metadata": {},
   "source": [
    "1. Bernie Sanders datasets: <br>\n",
    "Dataset 1 Name: bernietrend.csv <br>\n",
    "Link to the dataset: https://trends.google.com/trends/explore?q=%2Fm%2F01_gbv&geo=US <br>\n",
    "Description: Google search trends for Bernie Sanders<br>\n",
    "Dataset 2 Name: FEC_Bernie2020.csv <br>\n",
    "Link to the dataset: https://www.fec.gov/data/receipts/individual-contributions/?two_year_transaction_period=2020&committee_id=C00696948&min_date=01%2F01%2F2019&max_date=12%2F31%2F2020 <br>\n",
    "Description: Individual FEC contribution records for Bernie Sanders<br><br>\n",
    "2. Beto O’Rourke datasets: <br>\n",
    "Dataset 3 Name: betotrend.csv <br>\n",
    "Link to the dataset: https://trends.google.com/trends/explore?geo=US&q=%2Fm%2F0dty9d <br>\n",
    "Description: Google search trends for Beto O’Rourke <br>\n",
    "Dataset 4 Name: FEC_Beto2020.csv <br>\n",
    "Link to the dataset: https://www.fec.gov/data/receipts/individual-contributions/?two_year_transaction_period=2020&committee_id=C00699090&min_date=01%2F01%2F2019&max_date=12%2F31%2F2020 <br>\n",
    "Description: Individual FEC contribution records for Beto O’Rourke <br><br>\n",
    "3. Kamala Harris datasets: <br>\n",
    "Dataset 5 Name: kamalatrend.csv <br>\n",
    "Link to the dataset: https://trends.google.com/trends/explore?geo=US&q=%2Fm%2F08sry2 <br>\n",
    "Description: Google search trends for Kamala Harris <br>\n",
    "Dataset 6 Name: FEC_Kamala2020.csv <br>\n",
    "Link to the dataset: https://www.fec.gov/data/receipts/individual-contributions/?two_year_transaction_period=2020&committee_id=C00694455&min_date=01%2F01%2F2019&max_date=12%2F31%2F2020 <br>\n",
    "Description: Individual FEC contribution records for Kamala Harris"
   ]
  },
  {
   "cell_type": "markdown",
   "metadata": {},
   "source": [
    "# Setup"
   ]
  },
  {
   "cell_type": "code",
   "execution_count": null,
   "metadata": {},
   "outputs": [],
   "source": [
    "# Display plots directly in the notebook instead of in a new window\n",
    "%matplotlib inline\n",
    "\n",
    "# Import libraries\n",
    "import numpy as np\n",
    "import pandas as pd\n",
    "import matplotlib.pyplot as plt\n",
    "import seaborn as sns\n",
    "import geopandas as gpd\n",
    "\n",
    "from shapely.geometry import Point, Polygon\n",
    "\n",
    "import matplotlib.pyplot as plt\n",
    "plt.rcParams['figure.figsize'] = (17, 5)\n",
    "plt.rcParams.update({'font.size': 16})\n",
    "from mpl_toolkits.axes_grid1 import make_axes_locatable\n",
    "\n",
    "%matplotlib inline\n",
    "\n",
    "import shapely.geometry as shp\n",
    "\n",
    "import sklearn.neighbors as skn\n",
    "import sklearn.metrics as skm\n",
    "\n",
    "pd.options.display.max_rows = 10\n",
    "\n",
    "import patsy\n",
    "import statsmodels.api as sm\n",
    "import scipy.stats as stats\n",
    "from scipy.stats import ttest_ind, chisquare, normaltest\n",
    "\n",
    "#improve resolution\n",
    "#comment this line if erroring on your machine/screen\n",
    "%config InlineBackend.figure_format ='retina'"
   ]
  },
  {
   "cell_type": "code",
   "execution_count": null,
   "metadata": {},
   "outputs": [],
   "source": [
    "# Configure libraries\n",
    "# The seaborn library makes plots look nicer\n",
    "sns.set()\n",
    "sns.set_context('talk')\n",
    "\n",
    "# Don't display too many rows/cols of DataFrames\n",
    "pd.options.display.max_rows = 10\n",
    "pd.options.display.max_columns = 8\n",
    "\n",
    "# Round decimals when displaying DataFrames\n",
    "pd.set_option('precision', 2)"
   ]
  },
  {
   "cell_type": "markdown",
   "metadata": {},
   "source": [
    "# Data Cleaning & Exploration"
   ]
  },
  {
   "cell_type": "markdown",
   "metadata": {},
   "source": [
    "### I. To check candidates popularity through Google searches through time"
   ]
  },
  {
   "cell_type": "code",
   "execution_count": null,
   "metadata": {
    "scrolled": true
   },
   "outputs": [],
   "source": [
    "#Bernie Sanders\n",
    "# Load Google Trends csv file as dataframe\n",
    "dfBSTrend = pd.read_csv('bernietrend.csv')\n",
    "# Set column names\n",
    "dfBSTrend.columns = ['date','trend']\n",
    "# Change data type from strings to number and date\n",
    "dfBSTrend['trend'] = dfBSTrend['trend'].apply(pd.to_numeric, errors = 'coerce')\n",
    "dfBSTrend['date'] = dfBSTrend['date'].astype('datetime64')\n",
    "\n",
    "#Beto O'Rourke\n",
    "# Load Google Trends csv file as dataframe\n",
    "dfBOTrend = pd.read_csv('betotrend.csv')\n",
    "# Set column names\n",
    "dfBOTrend.columns = ['date','trend']\n",
    "# Change data type from strings to number and date\n",
    "dfBOTrend['trend'] = dfBOTrend['trend'].apply(pd.to_numeric, errors = 'coerce')\n",
    "dfBOTrend['date'] = dfBOTrend['date'].astype('datetime64')\n",
    "\n",
    "# Kamala Harris\n",
    "# Load Google Trends csv file as dataframe\n",
    "dfKHTrend = pd.read_csv('kamalatrend.csv')\n",
    "# Set column names\n",
    "dfKHTrend.columns = ['date','trend']\n",
    "# Change data type from strings to number and date\n",
    "dfKHTrend['trend'] = dfKHTrend['trend'].apply(pd.to_numeric, errors = 'coerce')\n",
    "dfKHTrend['date'] = dfKHTrend['date'].astype('datetime64')"
   ]
  },
  {
   "cell_type": "code",
   "execution_count": null,
   "metadata": {},
   "outputs": [],
   "source": [
    "#Bernie Sanders\n",
    "#Plot the trend and add appropriate axis labels \n",
    "bernie = dfBSTrend.plot(x='date', y='trend')\n",
    "bernie.set_xlabel('Date')\n",
    "bernie.set_ylabel('Trendiness')\n",
    "bernie.set_title('Bernie Sanders Google Trendiness By Date')\n",
    "\n",
    "#Beto O'Rourke\n",
    "#Plot the trend and add appropriate axis labels\n",
    "beto = dfBOTrend.plot(x = 'date', y = 'trend')\n",
    "beto.set_xlabel('Date')\n",
    "beto.set_ylabel('Trendiness')\n",
    "beto.set_title('Beto O Rourke Google Trendiness By Date')\n",
    "\n",
    "# Kamala Harris\n",
    "#Plot the trend and add appropriate axis labels\n",
    "kamala = dfKHTrend.plot(x = 'date', y = 'trend') \n",
    "kamala.set_xlabel('Date')\n",
    "kamala.set_ylabel('Trendiness')\n",
    "kamala.set_title('Kamala Harris Google Trendiness By Date')"
   ]
  },
  {
   "cell_type": "markdown",
   "metadata": {},
   "source": [
    "Data Processing Explanation: \n",
    "\n",
    "To clean the data we obtained from Google Trends, we first defined the columns to be 'date' and 'trend' so we could effectively plot them against each other. We then changed the format of the date and trend columns to variable types that were compatible for our analysis."
   ]
  },
  {
   "cell_type": "markdown",
   "metadata": {},
   "source": [
    "The graphs above describe the trendiness of each candidate from the time they announced their candidacies to the final date through which FEC data on each candidate is available. Though each candidate's graph has a different starting point, the FEC data for all candidates ends at the end of March. As the graphs demonstrate, candidates appear to peak in popularity at (or near) the beginning of their entrance into the race. Then, their popularity seems to level off. There are some exceptions to this trend, however. These surges in popularity are likely attributable to major political events that a candidate involved him or herself in."
   ]
  },
  {
   "cell_type": "markdown",
   "metadata": {},
   "source": [
    "### II. To check total donation volume to candidates through FEC data by time trend"
   ]
  },
  {
   "cell_type": "code",
   "execution_count": null,
   "metadata": {},
   "outputs": [],
   "source": [
    "#Bernie Sanders\n",
    "#Load FEC campaign contribution file as dataframe\n",
    "dfBSFEC = pd.read_csv('FEC_Bernie2020.csv')\n",
    "# Set column names\n",
    "dfBSFEC = dfBSFEC[['transaction_id', 'contribution_receipt_date', 'contribution_receipt_amount', 'contributor_state']]\n",
    "# Change data type from string to date or numeric form\n",
    "dfBSFEC['contribution_receipt_date'] = dfBSFEC['contribution_receipt_date'].astype(\"datetime64\")\n",
    "dfBSFEC['contribution_receipt_amount'] = dfBSFEC['contribution_receipt_amount'].apply(pd.to_numeric)\n",
    "\n",
    "#Beto O'Rourke\n",
    "#Load FEC campaign contribution file as dataframe\n",
    "dfBOFEC = pd.read_csv('FEC_Beto2020.csv')\n",
    "# Set column names\n",
    "dfBOFEC = dfBOFEC[['transaction_id', 'contribution_receipt_date', 'contribution_receipt_amount', 'contributor_state']]\n",
    "# Change data type from string to date or numeric form\n",
    "dfBOFEC['contribution_receipt_date'] = dfBOFEC['contribution_receipt_date'].astype(\"datetime64\")\n",
    "dfBOFEC['contribution_receipt_amount'] = dfBOFEC['contribution_receipt_amount'].apply(pd.to_numeric)\n",
    "\n",
    "#Kamala Harris\n",
    "#Load FEC campaign contribution file as dataframe\n",
    "dfKHFEC = pd.read_csv('FEC_Kamala2020.csv')\n",
    "# Set column names\n",
    "dfKHFEC = dfKHFEC[['transaction_id', 'contribution_receipt_date', 'contribution_receipt_amount', 'contributor_state']]\n",
    "# Change data type from string to date or numeric form\n",
    "dfKHFEC['contribution_receipt_date'] = dfKHFEC['contribution_receipt_date'].astype(\"datetime64\")\n",
    "dfKHFEC['contribution_receipt_amount'] = dfKHFEC['contribution_receipt_amount'].apply(pd.to_numeric)"
   ]
  },
  {
   "cell_type": "code",
   "execution_count": null,
   "metadata": {},
   "outputs": [],
   "source": [
    "# Bernie Sanders\n",
    "# Create pivot table to obtain total amount raised for each day\n",
    "dfBSAmount = pd.pivot_table(dfBSFEC, index=['contribution_receipt_date'],values=[\"contribution_receipt_amount\"],aggfunc=np.sum)\n",
    "# Set column name as date\n",
    "dfBSAmount.index.names = ['date']\n",
    "# Plot Bernie daily contribution amounts\n",
    "bernie2 = dfBSAmount.plot()\n",
    "# Set graph appearance\n",
    "bernie2.set_xlabel('Date')\n",
    "bernie2.set_ylabel('Contribution Amount')\n",
    "bernie2.set_title('Total Contribution Amount By Date to Sanders')\n",
    "\n",
    "# Beto O'Rourke\n",
    "# Create pivot table to obtain total amount raised for each day\n",
    "dfBOAmount = pd.pivot_table(dfBOFEC, index = ['contribution_receipt_date'], values = [\"contribution_receipt_amount\"], aggfunc = np.sum)\n",
    "# Set column name as date\n",
    "dfBOAmount.index.names = ['date']\n",
    "# Plot Beto daily contribution amounts\n",
    "beto2 = dfBOAmount.plot() \n",
    "# Set graph appearance\n",
    "beto2.set_xlabel('Date')\n",
    "beto2.set_ylabel('Contribution Amount')\n",
    "beto2.set_title('Total Contribution Amount By Date to O\\'Rourke')\n",
    "\n",
    "# Kamala Harris\n",
    "# Create pivot table to obtain total amount raised for each day\n",
    "dfKHAmount = pd.pivot_table(dfKHFEC, index = ['contribution_receipt_date'], values = [\"contribution_receipt_amount\"],aggfunc=np.sum)\n",
    "# Set column name as date\n",
    "dfKHAmount.index.names = ['date']\n",
    "# Plot Kamala daily contribution amounts\n",
    "kamala2 = dfKHAmount.plot()\n",
    "# Set graph appearance\n",
    "kamala2.set_xlabel('Date')\n",
    "kamala2.set_ylabel('Contribution Amount')\n",
    "kamala2.set_title('Total Contribution Amount By Date to Harris')"
   ]
  },
  {
   "cell_type": "markdown",
   "metadata": {},
   "source": [
    "Data Processing Explanation: \n",
    "\n",
    "We used a similar mechanism to process and clean the Federal Election Commission Data. We converted both 'date' and 'contributuion amount' to variable types that we could effectively graph."
   ]
  },
  {
   "cell_type": "markdown",
   "metadata": {},
   "source": [
    "The graphs above depict the total amount of contribution to a given candidate from the start of the announcment of their candidacy to the end of March. Each candidate's contribution amount seems to peak at different times; the trend is not as consistent across candidates as it was for the trendiness data. We theorize that surges in popularity are associated with pivotal moments associated with either a candidate's campaign or their political standing that capture the attention of their voting base. While Sanders and O'Rourke experience a surge in funding at the beginning of their campaigns, Harris received a surge nearly a month after, one that was likely a byproduct of her political campaigning and townhalls."
   ]
  },
  {
   "cell_type": "markdown",
   "metadata": {},
   "source": [
    "### III. To check total donation actions to candidates through FEC data by time trend"
   ]
  },
  {
   "cell_type": "code",
   "execution_count": null,
   "metadata": {},
   "outputs": [],
   "source": [
    "# Bernie Sanders\n",
    "# Create pivot table to obtain total number of transactions each day\n",
    "dfBSDonors = pd.pivot_table(dfBSFEC, index=[\"contribution_receipt_date\"],values=[\"transaction_id\"], aggfunc=lambda x: len(x.unique()))\n",
    "# Set column name\n",
    "dfBSDonors.index.names = ['date']\n",
    "# Plot total number of transactions\n",
    "bernie3 = dfBSDonors.plot()\n",
    "# Set graph appearance\n",
    "bernie3.set_xlabel('Date')\n",
    "bernie3.set_ylabel('Total Transactions')\n",
    "bernie3.set_title('Total Transactions By Date to Sanders')\n",
    "\n",
    "# Beto O'Rourke\n",
    "# Create pivot table to obtain total number of transactions each day\n",
    "dfBODonors = pd.pivot_table(dfBOFEC, index=[\"contribution_receipt_date\"],values=[\"transaction_id\"], aggfunc=lambda x: len(x.unique()))\n",
    "# Set column name\n",
    "dfBODonors.index.names = ['date']\n",
    "# Plot total number of transactions\n",
    "beto3 = dfBODonors.plot()\n",
    "# Set graph appearance\n",
    "beto3.set_xlabel('Date')\n",
    "beto3.set_ylabel('Total Transactions')\n",
    "beto3.set_title('Total Transactions By Date to O\\'Rourke')\n",
    "\n",
    "# Kamala Harris\n",
    "# Create pivot table to obtain total number of transactions each day\n",
    "dfKHDonors = pd.pivot_table(dfKHFEC, index=[\"contribution_receipt_date\"],values=[\"transaction_id\"], aggfunc=lambda x: len(x.unique()))\n",
    "# Set column name\n",
    "dfKHDonors.index.names = ['date']\n",
    "# Plot total number of transactions\n",
    "kamala3 = dfKHDonors.plot()\n",
    "# Set graph appearance\n",
    "kamala3.set_xlabel('Date')\n",
    "kamala3.set_ylabel('Total Transactions')\n",
    "kamala3.set_title('Total Transactions By Date to Harris')"
   ]
  },
  {
   "cell_type": "markdown",
   "metadata": {},
   "source": [
    "The graphs above track the total number of unique donors (or transactions) to a candidate from the same time range used in the previous graphs. There is certainly the least consistency amongst these graphs between each candidate. However, there does appear to be a correlation between the total number of unique donors to the total contribution amount, which suggests that the source of contributions is most likely not a single, dominant donor."
   ]
  },
  {
   "cell_type": "markdown",
   "metadata": {},
   "source": [
    "### IV. To check candidates popularity through google searching trend by state"
   ]
  },
  {
   "cell_type": "code",
   "execution_count": null,
   "metadata": {},
   "outputs": [],
   "source": [
    "# Bernie Sanders\n",
    "# Load Google Trends by state file into dataframe\n",
    "dfBSTrendStates = pd.read_csv('bernietrend_state.csv')\n",
    "# Set column names\n",
    "dfBSTrendStates.columns = ['state','trend']\n",
    "# Change data type to numeric\n",
    "dfBSTrendStates['trend'] = dfBSTrendStates['trend'].apply(pd.to_numeric, errors = 'coerce')\n",
    "\n",
    "# Beto O'Rourke\n",
    "# Load Google Trends by state file into dataframe\n",
    "dfBOTrendStates = pd.read_csv('betotrend_state.csv')\n",
    "# Set column names\n",
    "dfBOTrendStates.columns = ['state','trend']\n",
    "# Change data type to numeric\n",
    "dfBOTrendStates['trend'] = dfBOTrendStates['trend'].apply(pd.to_numeric, errors = 'coerce')\n",
    "\n",
    "# Kamala Harris\n",
    "# Load Google Trends by state file into dataframe\n",
    "dfKHTrendStates = pd.read_csv('kamalatrend_state.csv')\n",
    "# Set column names\n",
    "dfKHTrendStates.columns = ['state','trend']\n",
    "# Change data type to numeric\n",
    "dfKHTrendStates['trend'] = dfKHTrendStates['trend'].apply(pd.to_numeric, errors = 'coerce')"
   ]
  },
  {
   "cell_type": "code",
   "execution_count": null,
   "metadata": {},
   "outputs": [],
   "source": [
    "# Loading shape data for mapping\n",
    "usa = gpd.read_file('./states_21basic/states.shp')\n",
    "usa = usa.sort_values(by=['STATE_NAME'])\n",
    "\n",
    "# Bernie Sanders\n",
    "# Plot Bernie popularity by state onto US map\n",
    "ig, ax = plt.subplots(1, 1, figsize=(17, 7))\n",
    "divider = make_axes_locatable(ax)\n",
    "BSGeo = usa.plot(column=dfBSTrendStates['trend'],ax=ax, cmap='Reds', legend=True);\n",
    "BSGeo.set_title('Bernie Sanders Popularity By State')\n",
    "\n",
    "# Beto O'Rourke\n",
    "# Plot Beto popularity by state onto US map\n",
    "ig, ax = plt.subplots(1, 1, figsize=(17, 7))\n",
    "divider = make_axes_locatable(ax)\n",
    "BOGeo = usa.plot(column=dfBOTrendStates['trend'],ax=ax, cmap='Reds', legend=True);\n",
    "BOGeo.set_title('Beto O\\'Rourke Popularity By State')\n",
    "\n",
    "\n",
    "# Kamala Harris\n",
    "# Plot Kamala popularity by state onto US map\n",
    "ig, ax = plt.subplots(1, 1, figsize=(17, 7))\n",
    "divider = make_axes_locatable(ax)\n",
    "KHGeo = usa.plot(column=dfKHTrendStates['trend'],ax=ax, cmap='Reds', legend=True);\n",
    "KHGeo.set_title('Kamala Harris Popularity By State')\n"
   ]
  },
  {
   "cell_type": "markdown",
   "metadata": {},
   "source": [
    "### V. Total contribution amount based on U.S. Census Bureau Divisions"
   ]
  },
  {
   "cell_type": "code",
   "execution_count": null,
   "metadata": {},
   "outputs": [],
   "source": [
    "# Bernie Sanders\n",
    "# Create pivot table to obtain total amount raised by state\n",
    "dfBSStates = pd.pivot_table(dfBSFEC, index=['contributor_state'],values=[\"contribution_receipt_amount\"],aggfunc=np.sum)\n",
    "# Set column name\n",
    "dfBSStates.index.names = ['state']\n",
    "\n",
    "# Beto O'Rourke\n",
    "# Create pivot table to obtain total amount raised by state\n",
    "dfBOStates = pd.pivot_table(dfBOFEC, index=['contributor_state'],values=[\"contribution_receipt_amount\"],aggfunc=np.sum)\n",
    "# Set column name\n",
    "dfBOStates.index.names = ['state']\n",
    "\n",
    "# Kamala Harris\n",
    "# Create pivot table to obtain total amount raised by state\n",
    "dfKHStates = pd.pivot_table(dfKHFEC, index=['contributor_state'],values=[\"contribution_receipt_amount\"],aggfunc=np.sum)\n",
    "# Set column name\n",
    "dfKHStates.index.names = ['state']"
   ]
  },
  {
   "cell_type": "code",
   "execution_count": null,
   "metadata": {},
   "outputs": [],
   "source": [
    "# Census Bureau Division Version\n",
    "from collections import defaultdict\n",
    "# Bernie Sanders Fundraising by USCB Division\n",
    "# Create pivot table to obtain total amount raised by state\n",
    "# This pivot table is used to aggregate contributions by division\n",
    "dfBSDivision = pd.pivot_table(dfBSFEC, index=['contributor_state'],values=[\"contribution_receipt_amount\"],aggfunc=np.sum)\n",
    "# Set column name\n",
    "dfBSDivision.index.names = ['contributor_state']\n",
    "dfBSDivision['Division'] = \"\"\n",
    "dfBSDivision['Division Total'] = \"\"\n",
    "\n",
    "# Dictionary of state abbreviations with division\n",
    "state2division = {'AA': 'Territories/Army', 'AE': 'Territories/Army', 'AK': 'Pacific', 'AL': 'East South Central', 'AP': 'Territories/Army', 'AR': 'West South Central', 'AS': 'Territories/Army', 'AZ': 'Mountain', 'CA': 'Pacific', 'CO': 'Mountain', 'CT': 'New England', 'DC': 'South Atlantic', 'DE': 'South Atlantic', 'FL': 'South Atlantic', 'GA': 'South Atlantic', 'GU': 'Territories/Army', 'HI': 'Pacific', 'IA': 'West North Central', 'ID': 'Mountain', 'IL': 'East North Central', 'IN': 'East North Central', 'KS': 'West North Central', 'KY': 'East South Central', 'LA': 'West South Central', 'MA': 'New England', 'MD': 'South Atlantic', 'ME': 'New England', 'MI': 'East North Central', 'MN': 'West North Central', 'MO': 'West North Central', 'MP': 'Territories/Army', 'MS': 'East South Central', 'MT': 'Mountain', 'NC': 'South Atlantic', 'ND': 'West North Central', 'NE': 'West North Central', 'NH': 'New England', 'NJ': 'Mid-Atlantic', 'NM': 'Mountain', 'NV': 'Mountain', 'NY': 'Mid-Atlantic', 'OH': 'East North Central', 'OK': 'West South Central', 'OR': 'Pacific', 'PA': 'Mid-Atlantic', 'PR': 'Territories/Army', 'RI': 'New England', 'SC': 'South Atlantic', 'SD': 'West North Central', 'TN': 'East South Central', 'TX': 'West South Central', 'UT': 'Mountain', 'VA': 'South Atlantic', 'VI': 'Territories/Army', 'VT': 'New England', 'WA': 'Pacific', 'WI': 'East North Central', 'WV': 'South Atlantic', 'WY': 'Mountain', 'ZZ': 'Territories/Army'}\n",
    "\n",
    "# Add division data to original table\n",
    "for i, row in dfBSDivision.iterrows():\n",
    "    dfBSDivision.at[i,'Division'] = state2division[i]\n",
    "    \n",
    "# Create pivot table to obtain total amount raised in each region\n",
    "dfBSDivision_State = pd.pivot_table(dfBSDivision, index=['Division'],values=[\"contribution_receipt_amount\"],aggfunc=np.sum)\n",
    "\n",
    "# Sort pivot table by funds raised from high to low\n",
    "dfBSDivision_State = dfBSDivision_State.sort_values(by=['contribution_receipt_amount'])\n",
    "\n",
    "# Plot ranking of amount raised\n",
    "f1 = dfBSDivision_State['contribution_receipt_amount'].plot(kind='barh', color = 'red')\n",
    "\n",
    "plt.plot()\n",
    "plt.xticks(rotation = 90)\n",
    "\n",
    "#f1.get_xaxis().setticks([rotation = 90])\n",
    "f1.set_xlabel('Total Contribution Amount')\n",
    "f1.set_ylabel('Census Regions and Divisions')\n",
    "f1.set_title('Total Contribution Amount By Census Region for Bernie Sanders')\n",
    "\n",
    "plt.show()\n",
    "\n",
    "#Beto O'Rourke information\n",
    "dfBODivision = pd.pivot_table(dfBOFEC, index=['contributor_state'],values=[\"contribution_receipt_amount\"],aggfunc=np.sum)\n",
    "# Set column name\n",
    "dfBODivision.index.names = ['contributor_state']\n",
    "dfBODivision['Division'] = \"\"\n",
    "dfBODivision['Division Total'] = \"\"\n",
    "\n",
    "# Dictionary of state abbreviations with division\n",
    "state2division = {'AA': 'Territories/Army', 'AE': 'Territories/Army', 'AK': 'Pacific', 'AL': 'East South Central', 'AP': 'Territories/Army', 'AR': 'West South Central', 'AS': 'Territories/Army', 'AZ': 'Mountain', 'CA': 'Pacific', 'CO': 'Mountain', 'CT': 'New England', 'DC': 'South Atlantic', 'DE': 'South Atlantic', 'FL': 'South Atlantic', 'GA': 'South Atlantic', 'GU': 'Territories/Army', 'HI': 'Pacific', 'IA': 'West North Central', 'ID': 'Mountain', 'IL': 'East North Central', 'IN': 'East North Central', 'KS': 'West North Central', 'KY': 'East South Central', 'LA': 'West South Central', 'MA': 'New England', 'MD': 'South Atlantic', 'ME': 'New England', 'MI': 'East North Central', 'MN': 'West North Central', 'MO': 'West North Central', 'MP': 'Territories/Army', 'MS': 'East South Central', 'MT': 'Mountain', 'NC': 'South Atlantic', 'ND': 'West North Central', 'NE': 'West North Central', 'NH': 'New England', 'NJ': 'Mid-Atlantic', 'NM': 'Mountain', 'NV': 'Mountain', 'NY': 'Mid-Atlantic', 'OH': 'East North Central', 'OK': 'West South Central', 'OR': 'Pacific', 'PA': 'Mid-Atlantic', 'PR': 'Territories/Army', 'RI': 'New England', 'SC': 'South Atlantic', 'SD': 'West North Central', 'TN': 'East South Central', 'TX': 'West South Central', 'UT': 'Mountain', 'VA': 'South Atlantic', 'VI': 'Territories/Army', 'VT': 'New England', 'WA': 'Pacific', 'WI': 'East North Central', 'WV': 'South Atlantic', 'WY': 'Mountain', 'ZZ': 'Territories/Army'}\n",
    "\n",
    "# Add division data to original table\n",
    "for i, row in dfBODivision.iterrows():\n",
    "    dfBODivision.at[i,'Division'] = state2division[i]\n",
    "    \n",
    "# Create pivot table to obtain total amount raised in each region\n",
    "dfBODivision_State = pd.pivot_table(dfBODivision, index=['Division'],values=[\"contribution_receipt_amount\"],aggfunc=np.sum)\n",
    "\n",
    "# Sort pivot table by funds raised from high to low\n",
    "dfBODivision_State = dfBODivision_State.sort_values(by=['contribution_receipt_amount'])\n",
    "\n",
    "# Plot ranking of amount raised\n",
    "f2 = dfBODivision_State['contribution_receipt_amount'].plot(kind='barh', color = 'green')\n",
    "\n",
    "plt.plot()\n",
    "plt.xticks(rotation = 90)\n",
    "\n",
    "f2.set_xlabel('Total Contribution Amount')\n",
    "f2.set_ylabel('Census Regions and Divisions')\n",
    "f2.set_title('Total Contribution Amount By Census Region for Beto O\\'Rourke')\n",
    "\n",
    "plt.show()\n",
    "\n",
    "dfKHDivision = pd.pivot_table(dfKHFEC, index=['contributor_state'],values=[\"contribution_receipt_amount\"],aggfunc=np.sum)\n",
    "# Set column name\n",
    "dfKHDivision.index.names = ['contributor_state']\n",
    "dfKHDivision['Division'] = \"\"\n",
    "dfKHDivision['Division Total'] = \"\"\n",
    "\n",
    "# Dictionary of state abbreviations with division\n",
    "state2division = {'AA': 'Territories/Army', 'AE': 'Territories/Army', 'AK': 'Pacific', 'AL': 'East South Central', 'AP': 'Territories/Army', 'AR': 'West South Central', 'AS': 'Territories/Army', 'AZ': 'Mountain', 'CA': 'Pacific', 'CO': 'Mountain', 'CT': 'New England', 'DC': 'South Atlantic', 'DE': 'South Atlantic', 'FL': 'South Atlantic', 'GA': 'South Atlantic', 'GU': 'Territories/Army', 'HI': 'Pacific', 'IA': 'West North Central', 'ID': 'Mountain', 'IL': 'East North Central', 'IN': 'East North Central', 'KS': 'West North Central', 'KY': 'East South Central', 'LA': 'West South Central', 'MA': 'New England', 'MD': 'South Atlantic', 'ME': 'New England', 'MI': 'East North Central', 'MN': 'West North Central', 'MO': 'West North Central', 'MP': 'Territories/Army', 'MS': 'East South Central', 'MT': 'Mountain', 'NC': 'South Atlantic', 'ND': 'West North Central', 'NE': 'West North Central', 'NH': 'New England', 'NJ': 'Mid-Atlantic', 'NM': 'Mountain', 'NV': 'Mountain', 'NY': 'Mid-Atlantic', 'OH': 'East North Central', 'OK': 'West South Central', 'OR': 'Pacific', 'PA': 'Mid-Atlantic', 'PR': 'Territories/Army', 'RI': 'New England', 'SC': 'South Atlantic', 'SD': 'West North Central', 'TN': 'East South Central', 'TX': 'West South Central', 'UT': 'Mountain', 'VA': 'South Atlantic', 'VI': 'Territories/Army', 'VT': 'New England', 'WA': 'Pacific', 'WI': 'East North Central', 'WV': 'South Atlantic', 'WY': 'Mountain', 'ZZ': 'Territories/Army'}\n",
    "\n",
    "# Add division data to original table\n",
    "for i, row in dfBODivision.iterrows():\n",
    "    dfKHDivision.at[i,'Division'] = state2division[i]\n",
    "    \n",
    "# Create pivot table to obtain total amount raised in each region\n",
    "dfKHDivision_State = pd.pivot_table(dfKHDivision, index=['Division'],values=[\"contribution_receipt_amount\"],aggfunc=np.sum)\n",
    "\n",
    "# Sort pivot table by funds raised from high to low\n",
    "dfKHDivision_State = dfKHDivision_State.sort_values(by=['contribution_receipt_amount'])\n",
    "\n",
    "# Plot ranking of amount raised\n",
    "f3 = dfKHDivision_State['contribution_receipt_amount'].plot(kind='barh', color = 'black')\n",
    "\n",
    "plt.plot()\n",
    "plt.xticks(rotation = 90)\n",
    "\n",
    "f3.set_xlabel('Total Contribution Amount')\n",
    "f3.set_ylabel('Census Regions and Divisions')\n",
    "f3.set_title('Total Contribution Amount By Census Region for Kamala Harris')\n",
    "\n",
    "plt.show()\n",
    "\n",
    "#f1.get_xaxis().setticks([rotation = 90])\n",
    "#f2.set_xlabel('Total Contribution Amount')\n",
    "#f2.set_ylabel('Census Regions and Divisions')\n",
    "#f2.set_title('Total Contribution Amount By Census Region for Beto O\\Rourke')"
   ]
  },
  {
   "cell_type": "code",
   "execution_count": null,
   "metadata": {},
   "outputs": [],
   "source": [
    "# Census Bureau Division Version\n",
    "from collections import defaultdict\n",
    "# Bernie Sanders Fundraising by USCB Division\n",
    "# Create pivot table to obtain total amount raised by state\n",
    "# This pivot table is used to aggregate contributions by division\n",
    "dfBSTrendStates_Division = pd.pivot_table(dfBSTrendStates, index=['state'],values=[\"trend\"],aggfunc=np.sum)\n",
    "# Set column name\n",
    "dfBSTrendStates_Division.index.names = ['contributor_state']\n",
    "dfBSTrendStates_Division['Division'] = \"\"\n",
    "dfBSTrendStates_Division['Division Total'] = \"\"\n",
    "# Dictionary of state abbreviations with division\n",
    "state2division = {'AA': 'Territories/Army', 'AE': 'Territories/Army', 'AK': 'Pacific', 'AL': 'East South Central', 'AP': 'Territories/Army', 'AR': 'West South Central', 'AS': 'Territories/Army', 'AZ': 'Mountain', 'CA': 'Pacific', 'CO': 'Mountain', 'CT': 'New England', 'DC': 'South Atlantic', 'DE': 'South Atlantic', 'FL': 'South Atlantic', 'GA': 'South Atlantic', 'GU': 'Territories/Army', 'HI': 'Pacific', 'IA': 'West North Central', 'ID': 'Mountain', 'IL': 'East North Central', 'IN': 'East North Central', 'KS': 'West North Central', 'KY': 'East South Central', 'LA': 'West South Central', 'MA': 'New England', 'MD': 'South Atlantic', 'ME': 'New England', 'MI': 'East North Central', 'MN': 'West North Central', 'MO': 'West North Central', 'MP': 'Territories/Army', 'MS': 'East South Central', 'MT': 'Mountain', 'NC': 'South Atlantic', 'ND': 'West North Central', 'NE': 'West North Central', 'NH': 'New England', 'NJ': 'Mid-Atlantic', 'NM': 'Mountain', 'NV': 'Mountain', 'NY': 'Mid-Atlantic', 'OH': 'East North Central', 'OK': 'West South Central', 'OR': 'Pacific', 'PA': 'Mid-Atlantic', 'PR': 'Territories/Army', 'RI': 'New England', 'SC': 'South Atlantic', 'SD': 'West North Central', 'TN': 'East South Central', 'TX': 'West South Central', 'UT': 'Mountain', 'VA': 'South Atlantic', 'VI': 'Territories/Army', 'VT': 'New England', 'WA': 'Pacific', 'WI': 'East North Central', 'WV': 'South Atlantic', 'WY': 'Mountain', 'ZZ': 'Territories/Army'}\n",
    "# Add division data to original table\n",
    "for i, row in dfBSTrendStates_Division.iterrows():\n",
    "    dfBSTrendStates_Division.at[i,'Division'] = state2division[i]\n",
    "# Create pivot table to obtain total amount raised in each region\n",
    "dfBSTrendStates_Division = pd.pivot_table(dfBSTrendStates_Division, index=['Division'],values=[\"trend\"],aggfunc=np.sum)\n",
    "# Sort pivot table by funds raised from high to low\n",
    "dfBSTrendStates_Division = dfBSTrendStates_Division.sort_values(by=['trend'])\n",
    "# Plot ranking of amount raised\n",
    "f1 = dfBSTrendStates_Division['trend'].plot(kind='barh', color = 'red')\n",
    "plt.plot()\n",
    "plt.xticks(rotation = 90)\n",
    "#f1.get_xaxis().setticks([rotation = 90])\n",
    "f1.set_xlabel('Total Trendiness')\n",
    "f1.set_ylabel('Census Regions and Divisions')\n",
    "f1.set_title('Trendiness By Census Region for Bernie Sanders')\n",
    "plt.show()\n",
    "\n",
    "#Beto O'Rourke information\n",
    "dfBOTrendStates_Division = pd.pivot_table(dfBOTrendStates, index=['state'],values=[\"trend\"],aggfunc=np.sum)\n",
    "# Set column name\n",
    "dfBOTrendStates_Division.index.names = ['contributor_state']\n",
    "dfBOTrendStates_Division['Division'] = \"\"\n",
    "dfBOTrendStates_Division['Division Total'] = \"\"\n",
    "# Dictionary of state abbreviations with division\n",
    "state2division = {'AA': 'Territories/Army', 'AE': 'Territories/Army', 'AK': 'Pacific', 'AL': 'East South Central', 'AP': 'Territories/Army', 'AR': 'West South Central', 'AS': 'Territories/Army', 'AZ': 'Mountain', 'CA': 'Pacific', 'CO': 'Mountain', 'CT': 'New England', 'DC': 'South Atlantic', 'DE': 'South Atlantic', 'FL': 'South Atlantic', 'GA': 'South Atlantic', 'GU': 'Territories/Army', 'HI': 'Pacific', 'IA': 'West North Central', 'ID': 'Mountain', 'IL': 'East North Central', 'IN': 'East North Central', 'KS': 'West North Central', 'KY': 'East South Central', 'LA': 'West South Central', 'MA': 'New England', 'MD': 'South Atlantic', 'ME': 'New England', 'MI': 'East North Central', 'MN': 'West North Central', 'MO': 'West North Central', 'MP': 'Territories/Army', 'MS': 'East South Central', 'MT': 'Mountain', 'NC': 'South Atlantic', 'ND': 'West North Central', 'NE': 'West North Central', 'NH': 'New England', 'NJ': 'Mid-Atlantic', 'NM': 'Mountain', 'NV': 'Mountain', 'NY': 'Mid-Atlantic', 'OH': 'East North Central', 'OK': 'West South Central', 'OR': 'Pacific', 'PA': 'Mid-Atlantic', 'PR': 'Territories/Army', 'RI': 'New England', 'SC': 'South Atlantic', 'SD': 'West North Central', 'TN': 'East South Central', 'TX': 'West South Central', 'UT': 'Mountain', 'VA': 'South Atlantic', 'VI': 'Territories/Army', 'VT': 'New England', 'WA': 'Pacific', 'WI': 'East North Central', 'WV': 'South Atlantic', 'WY': 'Mountain', 'ZZ': 'Territories/Army'}\n",
    "# Add division data to original table\n",
    "for i, row in dfBOTrendStates_Division.iterrows():\n",
    "    dfBOTrendStates_Division.at[i,'Division'] = state2division[i]\n",
    "# Create pivot table to obtain total amount raised in each region\n",
    "dfBOTrendStates_Division = pd.pivot_table(dfBOTrendStates_Division, index=['Division'],values=[\"trend\"],aggfunc=np.sum)\n",
    "# Sort pivot table by funds raised from high to low\n",
    "dfBOTrendStates_Division = dfBOTrendStates_Division.sort_values(by=['trend'])\n",
    "# Plot ranking of amount raised\n",
    "f2 = dfBOTrendStates_Division['trend'].plot(kind='barh', color = 'green')\n",
    "plt.plot()\n",
    "plt.xticks(rotation = 90)\n",
    "#f1.get_xaxis().setticks([rotation = 90])\n",
    "f2.set_xlabel('Total Trendiness')\n",
    "f2.set_ylabel('Census Regions and Divisions')\n",
    "f2.set_title('Trendiness By Census Region for Beto O\\'Rourke')\n",
    "plt.show()\n",
    "\n",
    "#Kamala Harris information\n",
    "dfKHTrendStates_Division = pd.pivot_table(dfKHTrendStates, index=['state'],values=[\"trend\"],aggfunc=np.sum)\n",
    "# Set column name\n",
    "dfKHTrendStates_Division.index.names = ['contributor_state']\n",
    "dfKHTrendStates_Division['Division'] = \"\"\n",
    "dfKHTrendStates_Division['Division Total'] = \"\"\n",
    "# Dictionary of state abbreviations with division\n",
    "state2division = {'AA': 'Territories/Army', 'AE': 'Territories/Army', 'AK': 'Pacific', 'AL': 'East South Central', 'AP': 'Territories/Army', 'AR': 'West South Central', 'AS': 'Territories/Army', 'AZ': 'Mountain', 'CA': 'Pacific', 'CO': 'Mountain', 'CT': 'New England', 'DC': 'South Atlantic', 'DE': 'South Atlantic', 'FL': 'South Atlantic', 'GA': 'South Atlantic', 'GU': 'Territories/Army', 'HI': 'Pacific', 'IA': 'West North Central', 'ID': 'Mountain', 'IL': 'East North Central', 'IN': 'East North Central', 'KS': 'West North Central', 'KY': 'East South Central', 'LA': 'West South Central', 'MA': 'New England', 'MD': 'South Atlantic', 'ME': 'New England', 'MI': 'East North Central', 'MN': 'West North Central', 'MO': 'West North Central', 'MP': 'Territories/Army', 'MS': 'East South Central', 'MT': 'Mountain', 'NC': 'South Atlantic', 'ND': 'West North Central', 'NE': 'West North Central', 'NH': 'New England', 'NJ': 'Mid-Atlantic', 'NM': 'Mountain', 'NV': 'Mountain', 'NY': 'Mid-Atlantic', 'OH': 'East North Central', 'OK': 'West South Central', 'OR': 'Pacific', 'PA': 'Mid-Atlantic', 'PR': 'Territories/Army', 'RI': 'New England', 'SC': 'South Atlantic', 'SD': 'West North Central', 'TN': 'East South Central', 'TX': 'West South Central', 'UT': 'Mountain', 'VA': 'South Atlantic', 'VI': 'Territories/Army', 'VT': 'New England', 'WA': 'Pacific', 'WI': 'East North Central', 'WV': 'South Atlantic', 'WY': 'Mountain', 'ZZ': 'Territories/Army'}\n",
    "# Add division data to original table\n",
    "for i, row in dfKHTrendStates_Division.iterrows():\n",
    "    dfKHTrendStates_Division.at[i,'Division'] = state2division[i]\n",
    "# Create pivot table to obtain total amount raised in each region\n",
    "dfKHTrendStates_Division = pd.pivot_table(dfKHTrendStates_Division, index=['Division'],values=[\"trend\"],aggfunc=np.sum)\n",
    "# Sort pivot table by funds raised from high to low\n",
    "dfKHTrendStates_Division = dfKHTrendStates_Division.sort_values(by=['trend'])\n",
    "# Plot ranking of amount raised\n",
    "f3 = dfKHTrendStates_Division['trend'].plot(kind='barh', color = 'black')\n",
    "plt.plot()\n",
    "plt.xticks(rotation = 90)\n",
    "#f1.get_xaxis().setticks([rotation = 90])\n",
    "f3.set_xlabel('Total Trendiness')\n",
    "f3.set_ylabel('Census Regions and Divisions')\n",
    "f3.set_title('Trendiness By Census Region for Kamala Harris')\n",
    "plt.show()"
   ]
  },
  {
   "cell_type": "markdown",
   "metadata": {},
   "source": [
    "The graphs above demonstrate the amount of total contributions from unique donors for each census region and division for each candidate. Census divisions are based off of relevant economic and geographic factors. The divisions are as follows: \n",
    "Division 1: New England (Connecticut, Maine, Massachusetts, New Hampshire, Rhode Island, and Vermont)\n",
    "Division 2: Mid-Atlantic (New Jersey, New York, and Pennsylvania)\n",
    "Division 3: East North Central (Illinois, Indiana, Michigan, Ohio, and Wisconsin)\n",
    "Division 4: West North Central (Iowa, Kansas, Minnesota, Missouri, Nebraska, North Dakota, and South Dakota)\n",
    "Division 5: South Atlantic (Delaware, Florida, Georgia, Maryland, North Carolina, South Carolina, Virginia, District of Columbia, and West Virginia)\n",
    "Division 6: East South Central (Alabama, Kentucky, Mississippi, and Tennessee)\n",
    "Division 7: West South Central (Arkansas, Louisiana, Oklahoma, and Texas)\n",
    "Division 8: Mountain (Arizona, Colorado, Idaho, Montana, Nevada, New Mexico, Utah, and Wyoming)\n",
    "Division 9: Pacific (Alaska, California, Hawaii, Oregon, and Washington)\n",
    "Bernie Sanders and Beto O'Rourke exhibit clear edges in the New England division. Although this makes sense for Sanders as he is from Vermont, this makes less sense for O'Rourke as he is from Texas. Harris finds greatest contribution from the Pacific division, which makes sense because of her presence as a Senator in California. While Sanders' 2nd most popular division is the Pacific region, Harris' is the New England region. O'Rourke, interestingly, is 2nd most popular in the West South Central region, which contains the state from which he is a representative, Texas.\n",
    "Thus, these graphs provide a wealth of information regarding campaign donorship."
   ]
  },
  {
   "cell_type": "code",
   "execution_count": null,
   "metadata": {},
   "outputs": [],
   "source": [
    "# Add division total to each state for mapping purposes\n",
    "for i, row in dfBSDivision.iterrows():\n",
    "    dfBSDivision.at[i,'Division Total'] =  float(dfBSDivision_State.loc[dfBSDivision_State.index == state2division[i]][\"contribution_receipt_amount\"])\n",
    "for i, row in dfBODivision.iterrows():\n",
    "    dfBODivision.at[i,'Division Total'] =  float(dfBODivision_State.loc[dfBODivision_State.index == state2division[i]][\"contribution_receipt_amount\"])\n",
    "for i, row in dfKHDivision.iterrows():\n",
    "    dfKHDivision.at[i,'Division Total'] =  float(dfKHDivision_State.loc[dfKHDivision_State.index == state2division[i]][\"contribution_receipt_amount\"])\n",
    "\n",
    "#Drop territories and overseas army data as we are only mapping the 50 states + DC\n",
    "missing_states = [0, 1, 4, 14, 43, 51, 57]\n",
    "dfBSDivision = dfBSDivision.drop(dfBSDivision.index[missing_states])\n",
    "missing_states = [0, 3, 41, 49, 55]\n",
    "dfBODivision = dfBODivision.drop(dfBODivision.index[missing_states])\n",
    "missing_states = [0, 40, 48, 54, 55]\n",
    "dfKHDivision = dfKHDivision.drop(dfKHDivision.index[missing_states])\n",
    "\n",
    "# Loading shape data for mapping\n",
    "unitedstates = gpd.read_file('./states_21basic/states.shp')\n",
    "unitedstates = unitedstates.sort_values(by=['STATE_ABBR'])\n",
    "\n",
    "# Plot amount raised in each division onto map\n",
    "iga, ax = plt.subplots(1, 1, figsize=(17, 7))\n",
    "divider_b = make_axes_locatable(ax)\n",
    "berniestates = unitedstates.plot(column=dfBSDivision['Division Total'],ax=ax, cmap='Reds')\n",
    "berniestates.legend(loc='upper center', bbox_to_anchor=(1.45, 0.8), shadow=True, ncol=1)\n",
    "berniestates.set_title('Total Contribution Amount By Census Region for Bernie Sanders')\n",
    "\n",
    "iga, ax = plt.subplots(1, 1, figsize=(17, 7))\n",
    "divider_b = make_axes_locatable(ax)\n",
    "betostates = unitedstates.plot(column=dfBODivision['Division Total'],ax=ax, cmap='Reds')\n",
    "betostates.legend(loc='upper center', bbox_to_anchor=(1.45, 0.8), shadow=True, ncol=1)\n",
    "betostates.set_title('Total Contribution Amount By Census Region for Beto O\\'Rourke')\n",
    "\n",
    "iga, ax = plt.subplots(1, 1, figsize=(17, 7))\n",
    "divider_b = make_axes_locatable(ax)\n",
    "kamalastates = unitedstates.plot(column=dfKHDivision['Division Total'],ax=ax, cmap='Reds')\n",
    "kamalastates.legend(loc='upper center', bbox_to_anchor=(1.45, 0.8), shadow=True, ncol=1)\n",
    "kamalastates.set_title('Total Contribution Amount By Census Region for Kamala Harris')"
   ]
  },
  {
   "cell_type": "markdown",
   "metadata": {},
   "source": [
    "# Data Analysis & Results"
   ]
  },
  {
   "cell_type": "markdown",
   "metadata": {},
   "source": [
    "### I. Correlation between popularity over time and daily total donation amounts"
   ]
  },
  {
   "cell_type": "markdown",
   "metadata": {},
   "source": [
    "#### Visualization"
   ]
  },
  {
   "cell_type": "code",
   "execution_count": null,
   "metadata": {},
   "outputs": [],
   "source": [
    "# Bernie Sanders\n",
    "# Visually analyze correlation between Google Trends figures and total amount raised\n",
    "# Merge dataframes on date\n",
    "BSMerged = (pd.merge(dfBSAmount, dfBSTrend, how='outer', on='date'))\n",
    "# Drop all dates when either fundraising amount was missing or trend data was missing\n",
    "BSMerged = BSMerged.dropna()\n",
    "# Plot trends and amount\n",
    "ax = BSMerged.plot('date','contribution_receipt_amount')\n",
    "ax1 = ax.twinx()\n",
    "BernieDiv = BSMerged.plot('date','trend',ax=ax1, color='r')\n",
    "BernieDiv.set_xlabel('Date')\n",
    "BernieDiv.set_title('Relationship between Total Contribution Amount and Trendiness')\n",
    "BernieDiv.set_ylabel('Trendiness')\n",
    "\n",
    "plt.show()\n",
    "\n",
    "# Beto O'Rourke\n",
    "# Visually analyze correlation between Google Trends figures and total amount raised\n",
    "# Merge dataframes on date\n",
    "BOMerged = (pd.merge(dfBOAmount, dfBOTrend, how='outer', on='date'))\n",
    "# Drop all dates when either fundraising amount was missing or trend data was missing\n",
    "BOMerged = BOMerged.dropna()\n",
    "# Plot trends and amount\n",
    "ax = BOMerged.plot('date','contribution_receipt_amount')\n",
    "ax1 = ax.twinx()\n",
    "BetoDiv = BOMerged.plot('date','trend',ax=ax1, color='r')\n",
    "BetoDiv.set_xlabel('Date')\n",
    "BetoDiv.set_title('Relationship between Total Contribution Amount and Trendiness')\n",
    "BetoDiv.set_ylabel('Trendiness')\n",
    "\n",
    "\n",
    "# Kamala Harris\n",
    "# Visually analyze correlation between Google Trends figures and total amount raised\n",
    "# Merge dataframes on date\n",
    "KHMerged = (pd.merge(dfKHAmount, dfKHTrend, how='outer', on='date'))\n",
    "# Drop all dates when either fundraising amount was missing or trend data was missing\n",
    "KHMerged = KHMerged.dropna()\n",
    "# Plot trends and amount\n",
    "ax = KHMerged.plot('date','contribution_receipt_amount')\n",
    "ax1 = ax.twinx()\n",
    "KamalaDiv = KHMerged.plot('date','trend',ax=ax1, color='r')\n",
    "KamalaDiv.set_xlabel('Date')\n",
    "KamalaDiv.set_title('Relationship between Total Contribution Amount and Trendiness')\n",
    "KamalaDiv.set_ylabel('Trendiness')\n"
   ]
  },
  {
   "cell_type": "markdown",
   "metadata": {},
   "source": [
    "#### Regression analysis between interest over time and daily total contribution amount"
   ]
  },
  {
   "cell_type": "code",
   "execution_count": null,
   "metadata": {
    "scrolled": true
   },
   "outputs": [],
   "source": [
    "# Bernie Sanders\n",
    "# Analyze correlation between Google Trends figures and total amount raised\n",
    "# Looking for the correlation between by applying OLS linear regression\n",
    "outcome_1, predictors_1 = patsy.dmatrices(\"contribution_receipt_amount~trend\", BSMerged)\n",
    "mod_1 = sm.OLS(outcome_1, predictors_1)\n",
    "res_1 = mod_1.fit()\n",
    "print(res_1.summary())"
   ]
  },
  {
   "cell_type": "markdown",
   "metadata": {},
   "source": [
    "The result shows that the correlation of the trendiness of Bernie Sanders and the total contribution to Sanders is statistically significant at the p = 0.05 level. This means that, given the null hypothesis is true that no correlation exists between trendiness and total contribution, there is only a 3.1% percent change we would observe this sample. So, for every one unit increase in trendiness, there is an approximately $7,840.78 increase in the total campaign contribution amount."
   ]
  },
  {
   "cell_type": "code",
   "execution_count": null,
   "metadata": {},
   "outputs": [],
   "source": [
    "# Beto O'Rourke\n",
    "# Analyze correlation between Google Trends figures and total amount raised\n",
    "# Looking for the correlation between by applying OLS linear regression\n",
    "outcome_1, predictors_1 = patsy.dmatrices(\"contribution_receipt_amount~trend\", BOMerged)\n",
    "mod_1 = sm.OLS(outcome_1, predictors_1)\n",
    "res_1 = mod_1.fit()\n",
    "print(res_1.summary())"
   ]
  },
  {
   "cell_type": "markdown",
   "metadata": {},
   "source": [
    "The result shows that the correlation of the trendiness of Beto O'Rourke and the total contribution to O'Rourke is statistically significant at the p = 0.05 level. In fact, the p-value associated with the trendiness of O'Rourke is 0.000, which means that, if the null hypothesis were true, there would be a 0% chance of observing the correlation. So, for every one unit increase in trendiness, there ia a $27,030 in the total campaign contribution amount, on average."
   ]
  },
  {
   "cell_type": "code",
   "execution_count": null,
   "metadata": {
    "scrolled": true
   },
   "outputs": [],
   "source": [
    "# Kamala Harris\n",
    "# Analyze correlation between Google Trends figures and total amount raised\n",
    "# Looking for the correlation between by applying OLS linear regression\n",
    "outcome_1, predictors_1 = patsy.dmatrices(\"contribution_receipt_amount~trend\", KHMerged)\n",
    "mod_1 = sm.OLS(outcome_1, predictors_1)\n",
    "res_1 = mod_1.fit()\n",
    "print(res_1.summary())"
   ]
  },
  {
   "cell_type": "markdown",
   "metadata": {},
   "source": [
    "For Kamala Harris, the correlation between the trendiness and her total campaign contribution amount is also statistically significant, with about the same confidence level as Bernie Sanders. With Kamala Harris, the total campaign contribution amount increases by $4,320.84 for every unit unit increase in trendiness."
   ]
  },
  {
   "cell_type": "markdown",
   "metadata": {},
   "source": [
    "### II. Correlation between popularity over time and daily total number of transactions"
   ]
  },
  {
   "cell_type": "markdown",
   "metadata": {},
   "source": [
    "#### Visualization"
   ]
  },
  {
   "cell_type": "code",
   "execution_count": null,
   "metadata": {},
   "outputs": [],
   "source": [
    "# Bernie Sanders\n",
    "# Visually analyze correlation between Google Trends figures and total number of transactions each day\n",
    "# Merge dataframes on date\n",
    "BSMerged2 = (pd.merge(dfBSDonors, dfBSTrend, how='outer', on='date'))\n",
    "# Drop all dates when either fundraising amount was missing or trend data was missing\n",
    "BSMerged2 = BSMerged2.dropna()\n",
    "# Plot trends and counts\n",
    "ax = BSMerged2.plot('date','transaction_id')\n",
    "ax1 = ax.twinx()\n",
    "BSPopularity = BSMerged2.plot('date','trend',ax=ax1, color='r')\n",
    "BSPopularity.set_title('Relationship Between Total Number of Donors and Trendiness')\n",
    "BSPopularity.set_xlabel('Date')\n",
    "BSPopularity.set_ylabel('Trendiness')\n",
    "\n",
    "\n",
    "# Beto O'Rourke\n",
    "# Visually analyze correlation between Google Trends figures and total number of transactions each day\n",
    "# Merge dataframes on date\n",
    "BOMerged2 = (pd.merge(dfBODonors, dfBOTrend, how='outer', on='date'))\n",
    "# Drop all dates when either fundraising amount was missing or trend data was missing\n",
    "BOMerged2 = BOMerged2.dropna()\n",
    "# Plot trends and counts\n",
    "ax = BOMerged2.plot('date','transaction_id')\n",
    "ax1 = ax.twinx()\n",
    "BOPopularity = BOMerged2.plot('date','trend',ax=ax1, color='r')\n",
    "BOPopularity.set_title('Relationship Between Total Number of Donors and Trendiness')\n",
    "BOPopularity.set_xlabel('Date')\n",
    "BOPopularity.set_ylabel('Trendiness')\n",
    "\n",
    "\n",
    "# Kamala Harris\n",
    "# Visually analyze correlation between Google Trends figures and total number of transactions each day\n",
    "# Merge dataframes on date\n",
    "KHMerged2 = (pd.merge(dfKHDonors, dfKHTrend, how='outer', on='date'))\n",
    "# Drop all dates when either fundraising amount was missing or trend data was missing\n",
    "KHMerged2 = KHMerged2.dropna()\n",
    "# Plot trends and counts\n",
    "ax = KHMerged2.plot('date','transaction_id')\n",
    "ax1 = ax.twinx()\n",
    "KOPopularity = KHMerged2.plot('date','trend',ax=ax1, color='r')\n",
    "KOPopularity.set_title('Relationship Between Total Number of Donors and Trendiness')\n",
    "KOPopularity.set_xlabel('Date')\n",
    "KOPopularity.set_ylabel('Trendiness')"
   ]
  },
  {
   "cell_type": "markdown",
   "metadata": {},
   "source": [
    "#### Regression Analysis between interest by state and total funds raised to-date by state"
   ]
  },
  {
   "cell_type": "code",
   "execution_count": null,
   "metadata": {},
   "outputs": [],
   "source": [
    "# Bernie Sanders\n",
    "# Analyze correlation between Google Trends figures and total number of transactions each day\n",
    "# Looking for the correlation between by applying OLS linear regression\n",
    "outcome_1, predictors_1 = patsy.dmatrices(\"transaction_id~trend\", BSMerged2)\n",
    "mod_1 = sm.OLS(outcome_1, predictors_1)\n",
    "res_1 = mod_1.fit()\n",
    "print(res_1.summary())"
   ]
  },
  {
   "cell_type": "markdown",
   "metadata": {},
   "source": [
    "Based on the OLS Regression Results, the correlation between trendiness and unique donors for Bernie Sanders is not statistically significant. The p-value, .881, is much larger than the expected value of 0.05. Thus, we are forced to reject our null hypothesis that the amount of unique donors increases as a candidate's trendiness rises. In fact, the model indicates that there is a roughly 4-member decrease in unique donors for each unit increase in trendiness. Thus, it is certainly not a positive correlation, or a statistically significant negative correlation for that matter."
   ]
  },
  {
   "cell_type": "code",
   "execution_count": null,
   "metadata": {},
   "outputs": [],
   "source": [
    "# Beto O'Rourke\n",
    "# Analyze correlation between Google Trends figures and total number of transactions each day\n",
    "# Looking for the correlation between by applying OLS linear regression\n",
    "outcome_1, predictors_1 = patsy.dmatrices(\"transaction_id~trend\", BOMerged2)\n",
    "mod_1 = sm.OLS(outcome_1, predictors_1)\n",
    "res_1 = mod_1.fit()\n",
    "print(res_1.summary())"
   ]
  },
  {
   "cell_type": "markdown",
   "metadata": {},
   "source": [
    "In Beto O'Rourke's case, the correlation is statistically significant. For every unit increase in trendiness, there is a roughly 54 person increase in the number of unique donors O'Rourke receives. This finding is statistically significant at the p = 0.05 level."
   ]
  },
  {
   "cell_type": "code",
   "execution_count": null,
   "metadata": {},
   "outputs": [],
   "source": [
    "# Kamala Harris\n",
    "# Analyze correlation between Google Trends figures and total number of transactions each day\n",
    "# Looking for the correlation between by applying OLS linear regression\n",
    "outcome_1, predictors_1 = patsy.dmatrices(\"transaction_id~trend\", KHMerged2)\n",
    "mod_1 = sm.OLS(outcome_1, predictors_1)\n",
    "res_1 = mod_1.fit()\n",
    "print(res_1.summary())"
   ]
  },
  {
   "cell_type": "markdown",
   "metadata": {},
   "source": [
    "In the case of Kamala Harris, the finding is statistically significant as well, with a roughly 11 person increase in unique donors for every unit increase in trendiness."
   ]
  },
  {
   "cell_type": "markdown",
   "metadata": {},
   "source": [
    "### III. Correlation between popularity and total funds raised to-date by state"
   ]
  },
  {
   "cell_type": "markdown",
   "metadata": {},
   "source": [
    "#### Visualization on trend"
   ]
  },
  {
   "cell_type": "code",
   "execution_count": null,
   "metadata": {},
   "outputs": [],
   "source": [
    "# Bernie Sanders\n",
    "# Visually analyze correlation between Google Trends figures and total amount raised by states \n",
    "# Merge dataframes on state\n",
    "BSMerged3 = (pd.merge(dfBSDivision_State, dfBSTrendStates_Division, how='outer', on='Division'))\n",
    "# Drop all states when either fundraising amount was missing or trend data was missing\n",
    "BSMerged3 = BSMerged3.dropna()\n",
    "BSMerged3"
   ]
  },
  {
   "cell_type": "code",
   "execution_count": null,
   "metadata": {},
   "outputs": [],
   "source": [
    "# Beto O'Rourke\n",
    "# Visually analyze correlation between Google Trends figures and total amount raised by states \n",
    "# Merge dataframes on state\n",
    "BOMerged3 = (pd.merge(dfBODivision_State, dfBOTrendStates_Division, how='outer', on='Division'))\n",
    "# Drop all states when either fundraising amount was missing or trend data was missing\n",
    "BOMerged3 = BOMerged3.dropna()\n",
    "BOMerged3"
   ]
  },
  {
   "cell_type": "code",
   "execution_count": null,
   "metadata": {},
   "outputs": [],
   "source": [
    "# Kamala Harris\n",
    "# Visually analyze correlation between Google Trends figures and total amount raised by states \n",
    "# Merge dataframes on state\n",
    "KHMerged3 = (pd.merge(dfKHDivision_State, dfKHTrendStates_Division, how='outer', on='Division'))\n",
    "# Drop all states when either fundraising amount was missing or trend data was missing\n",
    "KHMerged3 = KHMerged3.dropna()\n",
    "KHMerged3"
   ]
  },
  {
   "cell_type": "markdown",
   "metadata": {},
   "source": [
    "#### Regression Analysis"
   ]
  },
  {
   "cell_type": "code",
   "execution_count": null,
   "metadata": {},
   "outputs": [],
   "source": [
    "# Bernie Sanders\n",
    "# Analyze correlation between Google Trends figures and total amount raised by Census region\n",
    "# Looking for the correlation between by applying OLS linear regression\n",
    "outcome_1, predictors_1 = patsy.dmatrices(\"contribution_receipt_amount~trend\", BSMerged3)\n",
    "mod_1 = sm.OLS(outcome_1, predictors_1)\n",
    "res_1 = mod_1.fit()\n",
    "print(res_1.summary())"
   ]
  },
  {
   "cell_type": "markdown",
   "metadata": {},
   "source": [
    "In Bernie Sanders' case, the correlation between Google trendiness by region and campaign contribution by region is statistically significant, with a p-value of 0.041. For every one unit increase in trendiness, there is a $16,630 dollar increase in the campaign contribution amount stemming from a Census region."
   ]
  },
  {
   "cell_type": "code",
   "execution_count": null,
   "metadata": {},
   "outputs": [],
   "source": [
    "# Beto O'Rourke\n",
    "# Analyze correlation between Google Trends figures and total amount raised by Census region\n",
    "# Looking for the correlation between by applying OLS linear regression\n",
    "outcome_1, predictors_1 = patsy.dmatrices(\"contribution_receipt_amount~trend\", BOMerged3)\n",
    "mod_1 = sm.OLS(outcome_1, predictors_1)\n",
    "res_1 = mod_1.fit()\n",
    "print(res_1.summary())"
   ]
  },
  {
   "cell_type": "markdown",
   "metadata": {},
   "source": [
    "In Beto O'Rourke's case, trendiness per region and contribution amount per region are not correlated in a statistically significant manner, with a p-value of 0.485."
   ]
  },
  {
   "cell_type": "code",
   "execution_count": null,
   "metadata": {},
   "outputs": [],
   "source": [
    "# Kamala Harris\n",
    "# Analyze correlation between Google Trends figures and total amount raised by Census region\n",
    "# Looking for the correlation between by applying OLS linear regression\n",
    "outcome_1, predictors_1 = patsy.dmatrices(\"contribution_receipt_amount~trend\", KHMerged3)\n",
    "mod_1 = sm.OLS(outcome_1, predictors_1)\n",
    "res_1 = mod_1.fit()\n",
    "print(res_1.summary())"
   ]
  },
  {
   "cell_type": "markdown",
   "metadata": {},
   "source": [
    "In Kamala Harris's case, trendiness per region is also not correlated in a statistically significant way with contribution amount per region, with a very high p-value of 0.747. "
   ]
  },
  {
   "cell_type": "markdown",
   "metadata": {},
   "source": [
    "# Ethics & Privacy"
   ]
  },
  {
   "cell_type": "markdown",
   "metadata": {},
   "source": [
    "Our data collection process itself was not affected by ethical dilemmas because both the Census data and campaign contribution amounts were publically available. Our Google trends data is slightly biased in that the popularity rankings given to us per candidate are all relative; the exact number of Google searches per region or per state is not provided to us. Instead, the ranking simply shows us where a candidate experiences hsi highest popularity, and then provides a relative popularity for every other state. For example, since Bernie Sanders has his highest popularity in Vermont, Vermont is given a 100 by Google Trends. The popularity of every other state in terms of search rates is then ranked in comparision, which would indicate that, roughly, for every 100,000 searches a candidate receives in Vermont, he receives 40,000 searches in a state with a ranking of 40. Thus, there is likely a slight skew in how the data is presented. The FEC (Federal Election Commission) data is not subject to this bias because the quantitative values are definitive and accurate.\n",
    "\n",
    "Another concern of our data collection process is the fact that we confined our study to only three candidates (of the 25) in the 2020 Democratic Primary. As a consequence, any conclusion we derive is corrupted by the fact that the pool of individuals we are deriving conclusions from is rather small. Our selection of our candidates was rooted in (1) those who show the most promise in the 2020 election, (2) those whose campaign contributions were made readily available by the Federal Election Commission. Thus, we were able to avoid any true ethical concerns in our data collection."
   ]
  },
  {
   "cell_type": "markdown",
   "metadata": {},
   "source": [
    "# Conclusion & Discussion"
   ]
  },
  {
   "cell_type": "markdown",
   "metadata": {},
   "source": [
    "Our hypothesis that the total contribution amount, total number of unique donors, and total contribution amount by each state will increase when the candidates’ trendiness rises. Generally, our hypothesis was proven correct, with a few exceptions in certain instances. The total contribution amount is correlated with a candidate's trendiness overtime in a statistically significant manner for all three candidates. So, for all three candidates, we can reject the null hypothesis that the total contribution amount overtime is not correlated with a candidate's trendiness. A limitation in our analysis is that our adjusted R^2 values are inconsistent across each candidate. So, even though we can confirm that we can reject the null hypothesis, we know that the amount of variation of total contribution amount accounted for by the candidate's popularity varies across candidate, which is expected but simultaneously important to consider.\n",
    "\n",
    "The total number of unique donors was correlated with trendiness overtime for a candidate in a statistically significant manner for Kamala Harris and Beto O'Rourke but not for Bernie Sanders. Thus, in the case of Bernie Sanders, we fail to reject the null hypothesis that a candidate's number of unique donors has no effect on the candidate's popularity overtime. The fact that we are forced to fai to reject our null hypothesis for a candidate points to a limitation in our analysis. We cannot make the sweeping generalization that a correlation exists between trendiness overtime and the number of unique donors overtime, as it does not hold true across all the candidates we choose to analyze.\n",
    "\n",
    "The correlation between the total contributions for each region and the trendiness of each region was only statistically significant for Bernie Sanders. Thus, of our three alternative hypothesis, the hyptothesis that an increase in trendiness per region will be accompanied by an increase in the total contributions of the region was the weakest.\n",
    "\n",
    "Overall, we are given some reason to believe that we can reject our null hypothesis, but it is only consistently true for the first case. Thus, perhaps the most relevant takeaway from our project is that, as a candidate's popularity on Google increases, there is likely an increase in their campaign contribution amount as well. In itself, this is a very useful conclusion.\n",
    "\n",
    "\n",
    "\n"
   ]
  }
 ],
 "metadata": {
  "kernelspec": {
   "display_name": "Python 3",
   "language": "python",
   "name": "python3"
  },
  "language_info": {
   "codemirror_mode": {
    "name": "ipython",
    "version": 3
   },
   "file_extension": ".py",
   "mimetype": "text/x-python",
   "name": "python",
   "nbconvert_exporter": "python",
   "pygments_lexer": "ipython3",
   "version": "3.7.3"
  }
 },
 "nbformat": 4,
 "nbformat_minor": 2
}
